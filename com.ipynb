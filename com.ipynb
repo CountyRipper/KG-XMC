{
 "cells": [
  {
   "cell_type": "code",
   "execution_count": 2,
   "metadata": {},
   "outputs": [],
   "source": [
    "from src.utils.premethod import read_index, load_map,read_text, transfer_indexs_to_labels, transfer_labels_to_index, p_at_k, p_at_k_text\n",
    "from src.utils.smat_util import load_matrix\n",
    "import os"
   ]
  },
  {
   "cell_type": "code",
   "execution_count": 3,
   "metadata": {},
   "outputs": [
    {
     "name": "stderr",
     "output_type": "stream",
     "text": [
      "[2023-05-11 10:59:18] [INFO] [/home/delab/980pro/KG-XMC/src/utils/decorators.py] dataset/eurlex-4k/Y.trn.txt\n",
      "[2023-05-11 10:59:18] [INFO] [/home/delab/980pro/KG-XMC/src/utils/decorators.py] dataset/eurlex-4k/Y.tst.txt\n",
      "[2023-05-11 10:59:18] [INFO] [/home/delab/980pro/KG-XMC/src/utils/decorators.py] dataset/eurlex-4k/output-items.txt\n",
      "[2023-05-11 10:59:18] [INFO] [/home/delab/980pro/KG-XMC/src/utils/decorators.py] dataset/eurlex-4k/output-items.txt\n"
     ]
    },
    {
     "name": "stdout",
     "output_type": "stream",
     "text": [
      "call read_index():\n",
      "call read_index():\n",
      "call load_map():\n",
      "call load_map():\n"
     ]
    }
   ],
   "source": [
    "gttrn_index = read_index('dataset/eurlex-4k/Y.trn.txt')\n",
    "gttst_index = read_index('dataset/eurlex-4k/Y.tst.txt')\n",
    "gttrn_label = transfer_indexs_to_labels(load_map('dataset/eurlex-4k/output-items.txt'),gttrn_index)\n",
    "gttst_label = transfer_indexs_to_labels(load_map('dataset/eurlex-4k/output-items.txt'),gttst_index)\n",
    "with open('dataset/eurlex-4k/Y_raw.trn.txt','w+') as w:\n",
    "    for i in gttrn_label:\n",
    "        w.write(','.join(i))\n",
    "        w.write('\\n')\n",
    "with open('dataset/eurlex-4k/Y_raw.tst.txt','w+') as w:\n",
    "    for i in gttst_label:\n",
    "        w.write(','.join(i))\n",
    "        w.write('\\n')"
   ]
  },
  {
   "cell_type": "code",
   "execution_count": 4,
   "metadata": {},
   "outputs": [],
   "source": [
    "from tqdm import tqdm"
   ]
  },
  {
   "cell_type": "code",
   "execution_count": 5,
   "metadata": {},
   "outputs": [
    {
     "name": "stderr",
     "output_type": "stream",
     "text": [
      "3865it [00:00, 17304.97it/s]"
     ]
    },
    {
     "name": "stdout",
     "output_type": "stream",
     "text": [
      "[1620, 336, 635, 192, 3204]\n"
     ]
    },
    {
     "name": "stderr",
     "output_type": "stream",
     "text": [
      "\n"
     ]
    }
   ],
   "source": [
    "result = load_matrix('dataset/eurlex-4k/res/P.npz')\n",
    "res = []\n",
    "label_inds=[]\n",
    "for i in tqdm(result):\n",
    "    #tmp = np.row_stack((i.indices,i.data))\n",
    "    tmp=zip(i.data,i.indices)\n",
    "    tmp_r = sorted(tmp,reverse=True)\n",
    "    res.append(tmp_r)\n",
    "    label_inds.append([x[-1] for x in tmp_r][:5])\n",
    "# result = np.row_stack((result.indices,result.data))\n",
    "# result = np.sort(result,axis=1)\n",
    "# label_inds = [x[-1] for x in res]\n",
    "print(label_inds[0])"
   ]
  },
  {
   "cell_type": "code",
   "execution_count": 6,
   "metadata": {},
   "outputs": [
    {
     "name": "stderr",
     "output_type": "stream",
     "text": [
      "[2023-05-11 10:59:46] [INFO] [/home/delab/980pro/KG-XMC/src/utils/decorators.py] ./dataset/eurlex-4k/output-items.txt\n"
     ]
    },
    {
     "name": "stdout",
     "output_type": "stream",
     "text": [
      "call load_map():\n"
     ]
    }
   ],
   "source": [
    "label_texts = transfer_indexs_to_labels(label_map=load_map('./dataset/eurlex-4k/output-items.txt'),\n",
    "                                        index_lists= label_inds)\n",
    "with open('./dataset/eurlex-4k/res/tst_xr.txt','w+') as w:\n",
    "    for i in label_texts:\n",
    "        w.write(','.join(i))\n",
    "        w.write('\\n')"
   ]
  },
  {
   "cell_type": "code",
   "execution_count": 7,
   "metadata": {},
   "outputs": [],
   "source": [
    "def concatenate(xr_list, kg_list):\n",
    "    '''\n",
    "    xr_list, kg_list are index list of label_candidates \n",
    "    return res, concatenated list of xr and kg lists\n",
    "    '''\n",
    "    res = []\n",
    "    assert len(xr_list)==len(kg_list)\n",
    "    for i in range(len(xr_list)):\n",
    "        for j in range(len(kg_list[i])):\n",
    "            if kg_list[i][j] in xr_list[i]: continue\n",
    "            else :\n",
    "                xr_list[i].append(kg_list[i][j])\n",
    "        res.append(xr_list[i])\n",
    "    return res"
   ]
  },
  {
   "cell_type": "code",
   "execution_count": 8,
   "metadata": {},
   "outputs": [
    {
     "name": "stderr",
     "output_type": "stream",
     "text": [
      "[2023-05-11 11:00:23] [INFO] [/home/delab/980pro/KG-XMC/src/utils/decorators.py] ./dataset/eurlex-4k/res/tst_rank_index_bartbibi.txt\n",
      "[2023-05-11 11:00:23] [INFO] [/home/delab/980pro/KG-XMC/src/utils/decorators.py] ./dataset/eurlex-4k/output-items.txt\n"
     ]
    },
    {
     "name": "stdout",
     "output_type": "stream",
     "text": [
      "call read_index():\n",
      "call load_map():\n"
     ]
    }
   ],
   "source": [
    "kg_list = read_index('./dataset/eurlex-4k/res/tst_rank_index_bartbibi.txt')\n",
    "xr_list = label_inds\n",
    "concat_list = concatenate(xr_list,kg_list)\n",
    "with open('./dataset/eurlex-4k/res/tst_concat_index.txt','w+') as w:\n",
    "    for i in concat_list:\n",
    "        w.write(','.join(list(map(lambda x:str(x),i))))\n",
    "        w.write('\\n')\n",
    "concat_texts_list = transfer_indexs_to_labels(load_map('./dataset/eurlex-4k/output-items.txt'),concat_list)\n",
    "with open('./dataset/eurlex-4k/res/tst_concat.txt','w+') as w:\n",
    "    for i in label_texts:\n",
    "        w.write(','.join(i))\n",
    "        w.write('\\n')"
   ]
  },
  {
   "cell_type": "code",
   "execution_count": 9,
   "metadata": {},
   "outputs": [
    {
     "name": "stderr",
     "output_type": "stream",
     "text": [
      "[2023-05-11 11:04:57] [INFO] [/home/delab/980pro/KG-XMC/src/utils/decorators.py] ./dataset/eurlex-4k/Y_raw.tst.txt\n",
      "[2023-05-11 11:04:57] [INFO] [/home/delab/980pro/KG-XMC/src/utils/decorators.py] ./dataset/eurlex-4k/res/tst_concat.txt\n"
     ]
    },
    {
     "name": "stdout",
     "output_type": "stream",
     "text": [
      "call p_at_k_text():\n",
      "p_at_k:\n",
      "\n",
      "src_label: ./dataset/eurlex-4k/Y_raw.tst.txt\n",
      "pred_label: ./dataset/eurlex-4k/res/tst_concat.txt\n",
      "call read_label_text():\n",
      "call read_label_text():\n",
      "p@1= 0.8763260025873221\n",
      "p@3= 0.7431651573954291\n",
      "p@5= 0.6131953428201811\n"
     ]
    },
    {
     "data": {
      "text/plain": [
       "[0.8763260025873221, 0.7431651573954291, 0.6131953428201811]"
      ]
     },
     "execution_count": 9,
     "metadata": {},
     "output_type": "execute_result"
    }
   ],
   "source": [
    "import os\n",
    "p_at_k_text(dir='./dataset/eurlex-4k/',src_label_dir=os.path.join('./dataset/eurlex-4k/','Y_raw.tst.txt'),\n",
    "       pred_label_dir='./dataset/eurlex-4k/res/tst_concat.txt',outputdir='./dataset/eurlex-4k/res_concate.txt')"
   ]
  },
  {
   "cell_type": "markdown",
   "metadata": {},
   "source": []
  }
 ],
 "metadata": {
  "kernelspec": {
   "display_name": "Python 3 (ipykernel)",
   "language": "python",
   "name": "python3"
  },
  "language_info": {
   "codemirror_mode": {
    "name": "ipython",
    "version": 3
   },
   "file_extension": ".py",
   "mimetype": "text/x-python",
   "name": "python",
   "nbconvert_exporter": "python",
   "pygments_lexer": "ipython3",
   "version": "3.9.16"
  }
 },
 "nbformat": 4,
 "nbformat_minor": 2
}
